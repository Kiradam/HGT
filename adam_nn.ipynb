{
 "cells": [
  {
   "cell_type": "markdown",
   "metadata": {},
   "source": [
    "<h1>Imports</h1>"
   ]
  },
  {
   "cell_type": "code",
   "execution_count": 4,
   "metadata": {
    "execution": {
     "iopub.execute_input": "2022-12-01T08:51:55.905149Z",
     "iopub.status.busy": "2022-12-01T08:51:55.904318Z",
     "iopub.status.idle": "2022-12-01T08:51:56.573274Z",
     "shell.execute_reply": "2022-12-01T08:51:56.572306Z",
     "shell.execute_reply.started": "2022-12-01T08:51:55.904802Z"
    }
   },
   "outputs": [],
   "source": [
    "from model_nn.net import net\n",
    "from model_nn.create_model import create_model, load_checkpoint\n",
    "from model_nn.trains import train, perf_measure, find_classes\n",
    "from Random_forest_baseline.loader.loader import train_transforms_prepare, test_transforms_prepare\n",
    "import torch\n",
    "from torchvision import datasets\n",
    "import matplotlib.pyplot as plt"
   ]
  },
  {
   "cell_type": "markdown",
   "metadata": {},
   "source": [
    "<h1>Loading data</h1>"
   ]
  },
  {
   "cell_type": "code",
   "execution_count": 5,
   "metadata": {
    "collapsed": false,
    "execution": {
     "iopub.execute_input": "2022-12-01T08:52:00.026935Z",
     "iopub.status.busy": "2022-12-01T08:52:00.026458Z",
     "iopub.status.idle": "2022-12-01T08:52:00.052759Z",
     "shell.execute_reply": "2022-12-01T08:52:00.051711Z",
     "shell.execute_reply.started": "2022-12-01T08:52:00.026903Z"
    },
    "jupyter": {
     "outputs_hidden": false
    }
   },
   "outputs": [],
   "source": [
    "data_dir = 'Splited_dataset'\n",
    "train_dir = data_dir + '/train'\n",
    "test_dir = data_dir + '/test'\n",
    "\n",
    "train_transforms = train_transforms_prepare(size=(256,256), normalize_mean=(0,0,0), normalize_std=(1,1,1))\n",
    "test_transforms = test_transforms_prepare(size=(256,256), center_crop=236, normalize_mean=(0,0,0), normalize_std=(1,1,1))\n",
    "\n",
    "train_data = datasets.ImageFolder(data_dir + '/train', transform=train_transforms)\n",
    "test_data = datasets.ImageFolder(data_dir + '/test', transform=test_transforms)\n",
    "\n",
    "trainloader = torch.utils.data.DataLoader(train_data, batch_size=128, shuffle=True)\n",
    "testloader = torch.utils.data.DataLoader(test_data, batch_size=32, shuffle=True)"
   ]
  },
  {
   "cell_type": "markdown",
   "metadata": {},
   "source": [
    "<h1>Creating models</h1>"
   ]
  },
  {
   "cell_type": "code",
   "execution_count": 3,
   "metadata": {
    "collapsed": false,
    "execution": {
     "iopub.execute_input": "2022-11-30T19:07:25.565171Z",
     "iopub.status.busy": "2022-11-30T19:07:25.564890Z",
     "iopub.status.idle": "2022-11-30T19:07:27.077602Z",
     "shell.execute_reply": "2022-11-30T19:07:27.076544Z",
     "shell.execute_reply.started": "2022-11-30T19:07:25.565171Z"
    },
    "jupyter": {
     "outputs_hidden": false
    }
   },
   "outputs": [
    {
     "name": "stderr",
     "output_type": "stream",
     "text": [
      "Downloading: \"https://download.pytorch.org/models/resnet34-b627a593.pth\" to /root/.cache/torch/hub/checkpoints/resnet34-b627a593.pth\n"
     ]
    },
    {
     "data": {
      "application/vnd.jupyter.widget-view+json": {
       "model_id": "dbc57004462b4d71a2305c08c5fb271e",
       "version_major": 2,
       "version_minor": 0
      },
      "text/plain": [
       "  0%|          | 0.00/83.3M [00:00<?, ?B/s]"
      ]
     },
     "metadata": {},
     "output_type": "display_data"
    }
   ],
   "source": [
    "TYPE = \"resnet\"\n",
    "NUM_LABEL = 48\n",
    "OPTIM = \"sgd\"\n",
    "LR = 0.01\n",
    "MOMENTUM = 0.9\n",
    "PATIENCE = 3\n",
    "THRESHOLD = 0.9\n",
    "EPOCH = 10\n",
    "\n",
    "net1 = net(pre_type=TYPE, num_label=NUM_LABEL)\n",
    "\n",
    "criterion, optimizer, lrscheduler = create_model(model=net1,\n",
    "                                                 opti=OPTIM,\n",
    "                                                 lr=LR,\n",
    "                                                 momentum=MOMENTUM,\n",
    "                                                 patience=PATIENCE,\n",
    "                                                 threshold=THRESHOLD)"
   ]
  },
  {
   "cell_type": "markdown",
   "metadata": {},
   "source": [
    "<h1>Training</h1>"
   ]
  },
  {
   "cell_type": "code",
   "execution_count": 4,
   "metadata": {
    "collapsed": false,
    "execution": {
     "iopub.execute_input": "2022-11-30T19:07:27.079263Z",
     "iopub.status.busy": "2022-11-30T19:07:27.078959Z",
     "iopub.status.idle": "2022-11-30T19:18:57.550305Z",
     "shell.execute_reply": "2022-11-30T19:18:57.549454Z",
     "shell.execute_reply.started": "2022-11-30T19:07:27.079248Z"
    },
    "jupyter": {
     "outputs_hidden": false
    }
   },
   "outputs": [
    {
     "name": "stdout",
     "output_type": "stream",
     "text": [
      "No. epochs: 2,                 Training Loss: 0.478                 Valid Loss: 1.126                 Valid Accuracy: 0.747\n",
      "No. epochs: 4,                 Training Loss: 0.018                 Valid Loss: 0.633                 Valid Accuracy: 0.861\n",
      "No. epochs: 5,                 Training Loss: 0.029                 Valid Loss: 0.415                 Valid Accuracy: 0.903\n",
      "No. epochs: 7,                 Training Loss: 0.005                 Valid Loss: 0.385                 Valid Accuracy: 0.905\n",
      "No. epochs: 8,                 Training Loss: 0.012                 Valid Loss: 0.323                 Valid Accuracy: 0.919\n",
      "No. epochs: 10,                 Training Loss: 0.004                 Valid Loss: 0.314                 Valid Accuracy: 0.915\n"
     ]
    }
   ],
   "source": [
    "trained = train(net1, trainloader, testloader, optimizer, criterion, lrscheduler, EPOCH)"
   ]
  },
  {
   "cell_type": "markdown",
   "metadata": {},
   "source": [
    "<h1>Save model</h1>"
   ]
  },
  {
   "cell_type": "code",
   "execution_count": 7,
   "metadata": {
    "execution": {
     "iopub.execute_input": "2022-11-30T19:21:27.974982Z",
     "iopub.status.busy": "2022-11-30T19:21:27.974359Z",
     "iopub.status.idle": "2022-11-30T19:21:30.403403Z",
     "shell.execute_reply": "2022-11-30T19:21:30.402247Z",
     "shell.execute_reply.started": "2022-11-30T19:21:27.974953Z"
    }
   },
   "outputs": [],
   "source": [
    "checkpoint = {'state_dict': trained.state_dict(),\n",
    "              'model': trained.fc,\n",
    "              'class_to_idx': train_data.class_to_idx,\n",
    "              'opt_state': optimizer.state_dict,\n",
    "              'num_epochs': EPOCH}\n",
    "\n",
    "torch.save(checkpoint, 'model_nn/cp.pth')"
   ]
  }
 ],
 "metadata": {
  "kernelspec": {
   "display_name": "Python 3 (ipykernel)",
   "language": "python",
   "name": "python3"
  },
  "language_info": {
   "codemirror_mode": {
    "name": "ipython",
    "version": 3
   },
   "file_extension": ".py",
   "mimetype": "text/x-python",
   "name": "python",
   "nbconvert_exporter": "python",
   "pygments_lexer": "ipython3",
   "version": "3.9.13"
  }
 },
 "nbformat": 4,
 "nbformat_minor": 4
}

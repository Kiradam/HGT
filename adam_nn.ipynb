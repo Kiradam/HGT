<<<<<<< HEAD
version https://git-lfs.github.com/spec/v1
oid sha256:0d109cf88f366e41be55261cad933ce7e401e4e381995320b8b02ee5d5cbf2dd
size 6901
=======
{
 "cells": [
  {
   "cell_type": "markdown",
   "metadata": {},
   "source": [
    "<h1>Imports</h1>"
   ]
  },
  {
   "cell_type": "code",
   "execution_count": 4,
   "metadata": {
    "execution": {
     "iopub.execute_input": "2022-11-26T20:17:24.073717Z",
     "iopub.status.busy": "2022-11-26T20:17:24.073576Z",
     "iopub.status.idle": "2022-11-26T20:17:24.091163Z",
     "shell.execute_reply": "2022-11-26T20:17:24.089454Z",
     "shell.execute_reply.started": "2022-11-26T20:17:24.073692Z"
    }
   },
   "outputs": [],
   "source": [
    "from model_nn.net import net\n",
    "from model_nn.create_model import create_model\n",
    "from model_nn.trains import train, perf_measure\n",
    "from Random_forest_baseline.loader.loader import train_transforms_prepare, test_transforms_prepare\n",
    "import torch\n",
    "from torchvision import datasets"
   ]
  },
  {
   "cell_type": "markdown",
   "metadata": {},
   "source": [
    "<h1>Loading data</h1>"
   ]
  },
  {
   "cell_type": "code",
   "execution_count": 5,
   "metadata": {
    "collapsed": false,
    "execution": {
     "iopub.execute_input": "2022-11-26T20:17:24.412657Z",
     "iopub.status.busy": "2022-11-26T20:17:24.412065Z",
     "iopub.status.idle": "2022-11-26T20:17:24.441871Z",
     "shell.execute_reply": "2022-11-26T20:17:24.440680Z",
     "shell.execute_reply.started": "2022-11-26T20:17:24.412627Z"
    },
    "jupyter": {
     "outputs_hidden": false
    }
   },
   "outputs": [],
   "source": [
    "data_dir = 'Random_forest_baseline/Splited_dataset'\n",
    "train_dir = data_dir + '/train'\n",
    "test_dir = data_dir + '/test'\n",
    "\n",
    "train_transforms = train_transforms_prepare(size=(256,256), normalize_mean=(0,0,0), normalize_std=(1,1,1))\n",
    "test_transforms = test_transforms_prepare(size=(256,256), center_crop=236, normalize_mean=(0,0,0), normalize_std=(1,1,1))\n",
    "\n",
    "train_data = datasets.ImageFolder(data_dir + '/train', transform=train_transforms)\n",
    "test_data = datasets.ImageFolder(data_dir + '/test', transform=test_transforms)\n",
    "\n",
    "trainloader = torch.utils.data.DataLoader(train_data, batch_size=128, shuffle=True)\n",
    "testloader = torch.utils.data.DataLoader(test_data, batch_size=32, shuffle=True)"
   ]
  },
  {
   "cell_type": "markdown",
   "metadata": {},
   "source": [
    "<h1>Creating models</h1>"
   ]
  },
  {
   "cell_type": "code",
   "execution_count": 6,
   "metadata": {
    "collapsed": false,
    "execution": {
     "iopub.execute_input": "2022-11-26T20:17:26.788221Z",
     "iopub.status.busy": "2022-11-26T20:17:26.786906Z",
     "iopub.status.idle": "2022-11-26T20:17:27.351649Z",
     "shell.execute_reply": "2022-11-26T20:17:27.350190Z",
     "shell.execute_reply.started": "2022-11-26T20:17:26.788170Z"
    },
    "jupyter": {
     "outputs_hidden": false
    }
   },
   "outputs": [
    {
     "data": {
      "text/plain": [
       "'\\nTYPE = \"densenet\"\\nOPTIM = \"sgd\"\\n\\nnet2 = net(pre_type=TYPE,\\n          num_label=NUM_LABEL)\\n\\ncriterion2, optimizer2, lrscheduler2 = create_model(model=net2,\\n                                                 opti=OPTIM,\\n                                                 lr=LR,\\n                                                 momentum=MOMENTUM,\\n                                                 patience=PATIENCE,\\n                                                 threshold=THRESHOLD)'"
      ]
     },
     "execution_count": 6,
     "metadata": {},
     "output_type": "execute_result"
    }
   ],
   "source": [
    "TYPE = \"resnet\"\n",
    "NUM_LABEL = 48\n",
    "OPTIM = \"sgd\"\n",
    "LR = 0.01\n",
    "MOMENTUM = 0.9\n",
    "PATIENCE = 3\n",
    "THRESHOLD = 0.9\n",
    "EPOCH = 10\n",
    "\n",
    "net1 = net(pre_type=TYPE, num_label=NUM_LABEL)\n",
    "\n",
    "criterion, optimizer, lrscheduler = create_model(model=net1,\n",
    "                                                 opti=OPTIM,\n",
    "                                                 lr=LR,\n",
    "                                                 momentum=MOMENTUM,\n",
    "                                                 patience=PATIENCE,\n",
    "                                                 threshold=THRESHOLD)"
   ]
  },
  {
   "cell_type": "markdown",
   "metadata": {},
   "source": [
    "<h1>Training</h1>"
   ]
  },
  {
   "cell_type": "code",
   "execution_count": 7,
   "metadata": {
    "collapsed": false,
    "execution": {
     "iopub.execute_input": "2022-11-26T20:17:46.866529Z",
     "iopub.status.busy": "2022-11-26T20:17:46.866176Z",
     "iopub.status.idle": "2022-11-26T20:30:50.753083Z",
     "shell.execute_reply": "2022-11-26T20:30:50.751563Z",
     "shell.execute_reply.started": "2022-11-26T20:17:46.866503Z"
    },
    "jupyter": {
     "outputs_hidden": false
    }
   },
   "outputs": [
    {
     "name": "stdout",
     "output_type": "stream",
     "text": [
      "No. epochs: 2,                 Training Loss: 0.454                 Valid Loss: 1.096                 Valid Accuracy: 0.741\n",
      "No. epochs: 4,                 Training Loss: 0.016                 Valid Loss: 0.53                 Valid Accuracy: 0.877\n",
      "No. epochs: 5,                 Training Loss: 0.026                 Valid Loss: 0.39                 Valid Accuracy: 0.896\n",
      "No. epochs: 7,                 Training Loss: 0.004                 Valid Loss: 0.334                 Valid Accuracy: 0.918\n",
      "No. epochs: 8,                 Training Loss: 0.008                 Valid Loss: 0.315                 Valid Accuracy: 0.923\n",
      "No. epochs: 10,                 Training Loss: 0.003                 Valid Loss: 0.328                 Valid Accuracy: 0.921\n"
     ]
    }
   ],
   "source": [
    "trained = train(net1, trainloader, testloader, optimizer, criterion, lrscheduler, EPOCH)"
   ]
  },
  {
   "cell_type": "markdown",
   "metadata": {},
   "source": [
    "<h1>Performance</h1>"
   ]
  },
  {
   "cell_type": "code",
   "execution_count": 8,
   "metadata": {
    "collapsed": false,
    "execution": {
     "iopub.execute_input": "2022-11-26T20:30:50.755665Z",
     "iopub.status.busy": "2022-11-26T20:30:50.755314Z",
     "iopub.status.idle": "2022-11-26T20:31:00.380000Z",
     "shell.execute_reply": "2022-11-26T20:31:00.378459Z",
     "shell.execute_reply.started": "2022-11-26T20:30:50.755648Z"
    },
    "jupyter": {
     "outputs_hidden": false
    }
   },
   "outputs": [
    {
     "name": "stdout",
     "output_type": "stream",
     "text": [
      "Test accuracy of model: 90.546%\n"
     ]
    }
   ],
   "source": [
    "perf_measure(trained, testloader)"
   ]
  }
 ],
 "metadata": {
  "kernelspec": {
   "display_name": "Python 3 (ipykernel)",
   "language": "python",
   "name": "python3"
  },
  "language_info": {
   "codemirror_mode": {
    "name": "ipython",
    "version": 3
   },
   "file_extension": ".py",
   "mimetype": "text/x-python",
   "name": "python",
   "nbconvert_exporter": "python",
   "pygments_lexer": "ipython3",
   "version": "3.9.13"
  }
 },
 "nbformat": 4,
 "nbformat_minor": 4
}
>>>>>>> affc212eb69e4ba073970100b267a6cd62802844

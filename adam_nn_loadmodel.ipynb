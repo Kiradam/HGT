version https://git-lfs.github.com/spec/v1
oid sha256:971bbad9c332189c5f1e174e9dcfd922ec5de24302bc3004385d1115cf4558d3
size 272518

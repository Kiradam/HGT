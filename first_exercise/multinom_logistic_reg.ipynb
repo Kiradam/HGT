<<<<<<< HEAD
version https://git-lfs.github.com/spec/v1
oid sha256:39abd20a2ad2f26260f071df6b611a54cedfe4f901afb514a21a2c4b238c9afb
size 3692
=======
{
 "cells": [
  {
   "cell_type": "code",
   "execution_count": 1,
   "id": "3c00b22a",
   "metadata": {},
   "outputs": [],
   "source": [
    "# imports\n",
    "\n",
    "import pandas as pd\n",
    "import warnings\n",
    "from sklearn.linear_model import LogisticRegression"
   ]
  },
  {
   "cell_type": "code",
   "execution_count": 2,
   "id": "18c9cfb5",
   "metadata": {},
   "outputs": [],
   "source": [
    "# loading and partitioning data\n",
    "\n",
    "full_data = pd.read_csv('verified_pb.data', sep=\"\\t\", header=None)\n",
    "train_data = full_data[full_data[1]%10 < 8]\n",
    "valid_data = full_data[full_data[1]%10 == 8]\n",
    "test_data = full_data[full_data[1]%10 == 9]"
   ]
  },
  {
   "cell_type": "code",
   "execution_count": 3,
   "id": "dd62845d",
   "metadata": {},
   "outputs": [],
   "source": [
    "# target: 2, explanatories: [4,5,6,7] and learning/tweaking\n",
    "\n",
    "accs = dict()\n",
    "\n",
    "warnings.filterwarnings(\"ignore\") #switching off warnings (maxiter reached multiple times)\n",
    "\n",
    "for i in range(10):\n",
    "    X_1 = train_data[[4,5,6,7]]\n",
    "    y_1 = train_data[2]\n",
    "    clf = LogisticRegression(random_state=0, max_iter=1000+i*1000).fit(X_1, y_1)\n",
    "\n",
    "    X_2 = valid_data[[4,5,6,7]]\n",
    "    y_2 = valid_data[2]\n",
    "    accs[i] = clf.score(X_2, y_2)\n",
    "    \n",
    "best_iter = [i for i in accs if accs[i] == max(accs.values())]\n",
    "\n",
    "warnings.filterwarnings(\"default\") # switching on warnings"
   ]
  },
  {
   "cell_type": "code",
   "execution_count": 4,
   "id": "a2b526cd",
   "metadata": {},
   "outputs": [
    {
     "name": "stdout",
     "output_type": "stream",
     "text": [
      "Accuracy on test: 0.8927419354838709\n"
     ]
    },
    {
     "name": "stderr",
     "output_type": "stream",
     "text": [
      "C:\\Users\\waeto\\anaconda3\\lib\\site-packages\\sklearn\\linear_model\\_logistic.py:814: ConvergenceWarning: lbfgs failed to converge (status=1):\n",
      "STOP: TOTAL NO. of ITERATIONS REACHED LIMIT.\n",
      "\n",
      "Increase the number of iterations (max_iter) or scale the data as shown in:\n",
      "    https://scikit-learn.org/stable/modules/preprocessing.html\n",
      "Please also refer to the documentation for alternative solver options:\n",
      "    https://scikit-learn.org/stable/modules/linear_model.html#logistic-regression\n",
      "  n_iter_i = _check_optimize_result(\n"
     ]
    }
   ],
   "source": [
    "# final learning and performance measuring on test\n",
    "\n",
    "X_1 = train_data[[4,5,6,7]]\n",
    "y_1 = train_data[2]\n",
    "clf = LogisticRegression(random_state=0, max_iter=1000+best_iter[0]*1000).fit(X_1, y_1)\n",
    "\n",
    "X_3 = test_data[[4,5,6,7]]\n",
    "y_3 = test_data[2]\n",
    "test_acc = clf.score(X_1, y_1)\n",
    "\n",
    "print(\"Accuracy on test: {}\".format(test_acc))"
   ]
  }
 ],
 "metadata": {
  "kernelspec": {
   "display_name": "Python 3 (ipykernel)",
   "language": "python",
   "name": "python3"
  },
  "language_info": {
   "codemirror_mode": {
    "name": "ipython",
    "version": 3
   },
   "file_extension": ".py",
   "mimetype": "text/x-python",
   "name": "python",
   "nbconvert_exporter": "python",
   "pygments_lexer": "ipython3",
   "version": "3.8.11"
  },
  "toc": {
   "base_numbering": 1,
   "nav_menu": {},
   "number_sections": true,
   "sideBar": true,
   "skip_h1_title": false,
   "title_cell": "Table of Contents",
   "title_sidebar": "Contents",
   "toc_cell": false,
   "toc_position": {},
   "toc_section_display": true,
   "toc_window_display": false
  }
 },
 "nbformat": 4,
 "nbformat_minor": 5
}
>>>>>>> affc212eb69e4ba073970100b267a6cd62802844

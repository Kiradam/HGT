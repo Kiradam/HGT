<<<<<<< HEAD
version https://git-lfs.github.com/spec/v1
oid sha256:7d70c83ded97c718e5378f55c60b2806506219a1ada70efc4a91bea7e3db8317
size 6445
=======
{
 "cells": [
  {
   "cell_type": "markdown",
   "source": [
    "Car image classification based on ResNet-34 feature extractor with RandomForest baseline"
   ],
   "metadata": {
    "collapsed": false
   },
   "outputs": [
    {
     "ename": "SyntaxError",
     "evalue": "invalid syntax (3677259411.py, line 1)",
     "output_type": "error",
     "traceback": [
      "\u001B[1;36m  Cell \u001B[1;32mIn [1], line 1\u001B[1;36m\u001B[0m\n\u001B[1;33m    Car image classification based on ResNet-34 feature extractor with RandomForest baseline\u001B[0m\n\u001B[1;37m        ^\u001B[0m\n\u001B[1;31mSyntaxError\u001B[0m\u001B[1;31m:\u001B[0m invalid syntax\n"
     ]
    }
   ],
   "execution_count": 1
  },
  {
   "cell_type": "code",
   "execution_count": 1,
   "outputs": [],
   "source": [
    "# Imports\n",
    "from loader.loader import train_transforms_prepare, test_transforms_prepare\n",
    "from sklearn.ensemble import RandomForestClassifier\n",
    "import pandas as pd\n",
    "from torchvision import datasets, models\n",
    "import torch"
   ],
   "metadata": {
    "collapsed": false
   }
  },
  {
   "cell_type": "code",
   "execution_count": 2,
   "outputs": [],
   "source": [
    "# Data loading and preparing\n",
    "data_dir = 'Splited_dataset'\n",
    "train_dir = data_dir + '/train'\n",
    "test_dir = data_dir + '/test'\n",
    "\n",
    "train_transforms = train_transforms_prepare(size=(256,256), normalize_mean=(0,0,0), normalize_std=(1,1,1))\n",
    "test_transforms = test_transforms_prepare(size=(256,256), center_crop=236, normalize_mean=(0,0,0), normalize_std=(1,1,1))\n",
    "\n",
    "train_data = datasets.ImageFolder(data_dir + '/train', transform=train_transforms)\n",
    "test_data = datasets.ImageFolder(data_dir + '/test', transform=test_transforms)\n",
    "\n",
    "trainloader = torch.utils.data.DataLoader(train_data, batch_size=128, shuffle=True)\n",
    "testloader = torch.utils.data.DataLoader(test_data, batch_size=32, shuffle=True)"
   ],
   "metadata": {
    "collapsed": false
   }
  },
  {
   "cell_type": "code",
   "execution_count": 3,
   "outputs": [
    {
     "name": "stderr",
     "output_type": "stream",
     "text": [
      "C:\\Users\\waeto\\Desktop\\Projects\\MastersThesis\\venv\\lib\\site-packages\\torchvision\\models\\_utils.py:208: UserWarning: The parameter 'pretrained' is deprecated since 0.13 and will be removed in 0.15, please use 'weights' instead.\n",
      "  warnings.warn(\n",
      "C:\\Users\\waeto\\Desktop\\Projects\\MastersThesis\\venv\\lib\\site-packages\\torchvision\\models\\_utils.py:223: UserWarning: Arguments other than a weight enum or `None` for 'weights' are deprecated since 0.13 and will be removed in 0.15. The current behavior is equivalent to passing `weights=ResNet34_Weights.IMAGENET1K_V1`. You can also use `weights=ResNet34_Weights.DEFAULT` to get the most up-to-date weights.\n",
      "  warnings.warn(msg)\n"
     ]
    }
   ],
   "source": [
    "# calling pretrained resnet 34\n",
    "model = models.resnet34(weights='DEFAULT')"
   ],
   "metadata": {
    "collapsed": false
   }
  },
  {
   "cell_type": "code",
   "execution_count": 4,
   "outputs": [],
   "source": [
    "# for low memory reasons saving the features and labels of train\n",
    "for ii, (images, labels) in enumerate(trainloader):\n",
    "  output = model.forward(images)\n",
    "  List = output.detach().numpy()\n",
    "  List = pd.DataFrame(List)\n",
    "  List2 = labels.detach().numpy()\n",
    "  List2 = pd.DataFrame(List2)\n",
    "  List = pd.concat([List, List2], axis=1)\n",
    "  List.to_csv('features_train_adam.csv', mode='a', index=False, header=False)\n",
    "  del output, List, List2"
   ],
   "metadata": {
    "collapsed": false
   }
  },
  {
   "cell_type": "code",
   "execution_count": 5,
   "outputs": [],
   "source": [
    "# for low memory reasons saving the features and labels of test\n",
    "for ii, (images, labels) in enumerate(testloader):\n",
    "  output = model.forward(images)\n",
    "  List = output.detach().numpy()\n",
    "  List = pd.DataFrame(List)\n",
    "  List2 = labels.detach().numpy()\n",
    "  List2 = pd.DataFrame(List2)\n",
    "  List = pd.concat([List, List2], axis=1)\n",
    "  List.to_csv('features_test_adam.csv', mode='a', index=False, header=False)\n",
    "  del output, List, List2"
   ],
   "metadata": {
    "collapsed": false
   }
  },
  {
   "cell_type": "code",
   "execution_count": 6,
   "outputs": [],
   "source": [
    "# reading data and separating features/label\n",
    "trainX = pd.read_csv('features_train_adam.csv', header=None)\n",
    "trainy = trainX[1000]\n",
    "trainX = trainX.drop(1000, axis=1)\n",
    "\n",
    "validX = trainX.iloc[2500:]\n",
    "trainX = trainX.iloc[:2500]\n",
    "\n",
    "validy = trainy.iloc[2500:]\n",
    "trainy = trainy.iloc[:2500]\n",
    "\n",
    "testX = pd.read_csv('features_test_adam.csv', header=None)\n",
    "testy = testX[1000]\n",
    "testX = testX.drop(1000, axis=1)"
   ],
   "metadata": {
    "collapsed": false
   }
  },
  {
   "cell_type": "code",
   "execution_count": 7,
   "outputs": [],
   "source": [
    "# training and accuracy measurement\n",
    "clf_dict = dict()\n",
    "for i in range(6,13):\n",
    "  clf = RandomForestClassifier(max_depth=i,random_state=0)\n",
    "  clf.fit(trainX, trainy)\n",
    "  clf_dict[i] = clf\n",
    "\n",
    "acc_dict = dict()\n",
    "for i in range(6,13):\n",
    "  acc_dict[i] = clf_dict[i].score(validX, validy)\n",
    "m_d = list(acc_dict.keys())[list(acc_dict.values()).index(max(acc_dict.values()))]"
   ],
   "metadata": {
    "collapsed": false
   }
  },
  {
   "cell_type": "code",
   "execution_count": 8,
   "outputs": [
    {
     "data": {
      "text/plain": "0.3202396804260985"
     },
     "execution_count": 8,
     "metadata": {},
     "output_type": "execute_result"
    }
   ],
   "source": [
    "clf = clf_dict[m_d]\n",
    "clf.score(testX, testy)"
   ],
   "metadata": {
    "collapsed": false
   }
  }
 ],
 "metadata": {
  "kernelspec": {
   "display_name": "Python 3",
   "language": "python",
   "name": "python3"
  },
  "language_info": {
   "codemirror_mode": {
    "name": "ipython",
    "version": 2
   },
   "file_extension": ".py",
   "mimetype": "text/x-python",
   "name": "python",
   "nbconvert_exporter": "python",
   "pygments_lexer": "ipython2",
   "version": "2.7.6"
  }
 },
 "nbformat": 4,
 "nbformat_minor": 0
}
>>>>>>> affc212eb69e4ba073970100b267a6cd62802844
